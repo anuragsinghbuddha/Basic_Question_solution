{
 "cells": [
  {
   "cell_type": "code",
   "execution_count": 1,
   "id": "5bf46cb6",
   "metadata": {},
   "outputs": [
    {
     "name": "stdout",
     "output_type": "stream",
     "text": [
      "I am making a phone call\n",
      "I am playing a game\n"
     ]
    }
   ],
   "source": [
    "# defining class which is blueprint of my object\n",
    "class Phone:\n",
    "    def make_call(self):\n",
    "        print(\"I am making a phone call\")\n",
    "    def play_game(self):\n",
    "        print(\"I am playing a game\")\n",
    "# creating object \n",
    "Realme=Phone()\n",
    "#calling of function to call\n",
    "Realme.make_call()\n",
    "#calling function to play game\n",
    "Realme.play_game()"
   ]
  },
  {
   "cell_type": "markdown",
   "id": "0c144fbc",
   "metadata": {},
   "source": [
    "### setting and returning attribute"
   ]
  },
  {
   "cell_type": "code",
   "execution_count": 2,
   "id": "65ba6fbf",
   "metadata": {},
   "outputs": [],
   "source": [
    "class Phone:\n",
    "    def set_color(self,color):\n",
    "        self.color=color\n",
    "    def set_cost(self,cost):\n",
    "        self.cost=cost\n",
    "    def show_color(self):\n",
    "        return self.color\n",
    "    def show_cost(self):\n",
    "        return self.cost\n",
    "    def make_call(self):\n",
    "        print(\"i am makig a phone call\")\n",
    "    def play_game(self):\n",
    "        print(\"i am playing a game\")\n",
    "    \n",
    "oneplus=Phone()\n"
   ]
  },
  {
   "cell_type": "code",
   "execution_count": 3,
   "id": "f196f71c",
   "metadata": {},
   "outputs": [],
   "source": [
    "oneplus.set_color(\"blue\")\n",
    "oneplus.set_cost(26000)\n"
   ]
  },
  {
   "cell_type": "code",
   "execution_count": 4,
   "id": "461b9746",
   "metadata": {},
   "outputs": [
    {
     "name": "stdout",
     "output_type": "stream",
     "text": [
      "i am makig a phone call\n",
      "i am playing a game\n"
     ]
    }
   ],
   "source": [
    "oneplus.show_color()\n",
    "oneplus.show_cost()\n",
    "oneplus.make_call()\n",
    "oneplus.play_game()\n",
    "\n",
    "\n"
   ]
  },
  {
   "cell_type": "code",
   "execution_count": 5,
   "id": "4339e8f9",
   "metadata": {},
   "outputs": [
    {
     "name": "stdout",
     "output_type": "stream",
     "text": [
      "Name of Employees is Anurag\n",
      "Age of Employees is 23\n",
      "Salery of Employees is 10 Million\n",
      "Gender of Employees is Male\n"
     ]
    }
   ],
   "source": [
    "class Employees:\n",
    "    def __init__(self,name,age,salery,gender):\n",
    "        \n",
    "        self.name=name\n",
    "        self.age=age\n",
    "        self.salery=salery\n",
    "        self.gender=gender\n",
    "        \n",
    "    def employees_detail(self):\n",
    "        print('Name of Employees is',self.name)\n",
    "        print('Age of Employees is',self.age)\n",
    "        print('Salery of Employees is',self.salery)\n",
    "        print('Gender of Employees is',self.gender)\n",
    "        \n",
    "e1=Employees('Anurag',23,'10 Million', 'Male')\n",
    "\n",
    "e1.employees_detail()"
   ]
  },
  {
   "cell_type": "markdown",
   "id": "ada69c02",
   "metadata": {},
   "source": [
    "#### In Inheritence one class can derive property of another class"
   ]
  },
  {
   "cell_type": "code",
   "execution_count": 6,
   "id": "13901527",
   "metadata": {},
   "outputs": [
    {
     "name": "stdout",
     "output_type": "stream",
     "text": [
      "Milage of car is 60 km /liter\n",
      "Price of car is 500 rupee\n"
     ]
    }
   ],
   "source": [
    "class vehicals:\n",
    "    def __init__(self,milage,price):\n",
    "        self.milage=milage\n",
    "        self.price=price\n",
    "    def vehical_detail(self):\n",
    "        print(\"Milage of car is\",self.milage)\n",
    "        print(\"Price of car is\",self.price)\n",
    "\n",
    "v1=vehicals(\"60 km /liter\",\"500 rupee\")\n",
    "v1.vehical_detail()\n"
   ]
  },
  {
   "cell_type": "code",
   "execution_count": 7,
   "id": "0c5b9c03",
   "metadata": {},
   "outputs": [
    {
     "name": "stdout",
     "output_type": "stream",
     "text": [
      "I am a Car\n",
      "Milage of car is 60 km /liter\n",
      "Price of car is 400 rupee\n"
     ]
    }
   ],
   "source": [
    "class Car(vehicals):#child class of parent class vehicals\n",
    "    def show_car(self):\n",
    "        print(\"I am a Car\")\n",
    "c1=Car(\"60 km /liter\",\"400 rupee\")  \n",
    "c1.show_car()\n",
    "c1.vehical_detail()\n"
   ]
  },
  {
   "cell_type": "markdown",
   "id": "2a0928d0",
   "metadata": {},
   "source": [
    "#### overriding init method"
   ]
  },
  {
   "cell_type": "code",
   "execution_count": 8,
   "id": "163844c9",
   "metadata": {},
   "outputs": [
    {
     "name": "stdout",
     "output_type": "stream",
     "text": [
      "Tyre of Car is BMW tyres limited\n",
      "Capacity of Car in hp is 400 hp\n",
      "That's why , I am BMW\n"
     ]
    }
   ],
   "source": [
    "class Car(vehicals):\n",
    "    def __init__(self,milage,price,tyre,hp):\n",
    "        super().__init__(milage,price)\n",
    "        self.tyre=tyre\n",
    "        self.hp=hp\n",
    "        print(\"Tyre of Car is\",self.tyre)\n",
    "        print(\"Capacity of Car in hp is\",self.hp)\n",
    "    def show_car(self):\n",
    "        print(\"That's why , I am BMW\")\n",
    "c1=Car(\"60 km /liter\",\"40 million rupee\",\"BMW tyres limited\",\"400 hp\") \n",
    "c1.show_car()\n",
    "    "
   ]
  },
  {
   "cell_type": "code",
   "execution_count": 9,
   "id": "7ec72890",
   "metadata": {},
   "outputs": [
    {
     "name": "stdout",
     "output_type": "stream",
     "text": [
      "Milage of car is 60 km /liter\n",
      "Price of car is 40 million rupee\n"
     ]
    }
   ],
   "source": [
    "c1.vehical_detail()"
   ]
  },
  {
   "cell_type": "markdown",
   "id": "6645538c",
   "metadata": {},
   "source": [
    "### in multiple inheritence child class inherit feature from more then one parent class"
   ]
  },
  {
   "cell_type": "code",
   "execution_count": 10,
   "id": "7411bed7",
   "metadata": {},
   "outputs": [
    {
     "data": {
      "text/plain": [
       "'one'"
      ]
     },
     "execution_count": 10,
     "metadata": {},
     "output_type": "execute_result"
    }
   ],
   "source": [
    "class parent1:\n",
    "    def assign_string_one(self,str1):\n",
    "        self.str1=str1\n",
    "    def show_string_one(self):\n",
    "        return self.str1\n",
    "class parent2:\n",
    "    def assign_string_two(self,str2):\n",
    "        self.str2=str2\n",
    "    def show_string_two(self):\n",
    "        return self.str2\n",
    "class derived(parent1,parent2):\n",
    "    def assign_string_three(self,str3):\n",
    "        self.str3=str3\n",
    "    def show_string_three(self):\n",
    "        return self.str3\n",
    "d1=derived()\n",
    "d1.assign_string_one(\"one\")\n",
    "d1.assign_string_two(\"two\")\n",
    "d1.assign_string_three(\"three\")\n",
    "\n",
    "d1.show_string_one()\n"
   ]
  },
  {
   "cell_type": "code",
   "execution_count": 11,
   "id": "0b8e4a39",
   "metadata": {},
   "outputs": [
    {
     "data": {
      "text/plain": [
       "'two'"
      ]
     },
     "execution_count": 11,
     "metadata": {},
     "output_type": "execute_result"
    }
   ],
   "source": [
    "d1.show_string_two()\n"
   ]
  },
  {
   "cell_type": "code",
   "execution_count": 12,
   "id": "e338a7c0",
   "metadata": {},
   "outputs": [
    {
     "data": {
      "text/plain": [
       "'three'"
      ]
     },
     "execution_count": 12,
     "metadata": {},
     "output_type": "execute_result"
    }
   ],
   "source": [
    "d1.show_string_three()\n"
   ]
  },
  {
   "cell_type": "markdown",
   "id": "1c6a5c33",
   "metadata": {},
   "source": [
    "### Multi level inheritence"
   ]
  },
  {
   "cell_type": "code",
   "execution_count": 20,
   "id": "8c5f48e1",
   "metadata": {},
   "outputs": [
    {
     "data": {
      "text/plain": [
       "'Anurag'"
      ]
     },
     "execution_count": 20,
     "metadata": {},
     "output_type": "execute_result"
    }
   ],
   "source": [
    "#parent class\n",
    "class parent:\n",
    "    def assign_name(self,name):\n",
    "        self.name=name\n",
    "    def show_name(self):\n",
    "        return self.name\n",
    "#child class\n",
    "\n",
    "class child(parent):\n",
    "    def assign_age(self,age):\n",
    "        self.age=age\n",
    "    def show_age(self):\n",
    "        return self.age\n",
    "#grand child class    \n",
    "class grand_child(child):\n",
    "    def assign_gender(self,gender):\n",
    "        self.gender=gender\n",
    "    def show_gender(self):\n",
    "        return self.gender\n",
    "    \n",
    "\n",
    "gc=grand_child()\n",
    "gc.assign_name('Anurag')\n",
    "gc.assign_age(21)\n",
    "gc.assign_gender('male')\n",
    "gc.show_name()\n",
    "\n",
    "            \n",
    "        \n",
    "    \n",
    "    \n",
    "\n",
    "    \n",
    "    \n",
    "\n",
    "    \n",
    "    "
   ]
  },
  {
   "cell_type": "code",
   "execution_count": 21,
   "id": "b97fcfc1",
   "metadata": {},
   "outputs": [
    {
     "data": {
      "text/plain": [
       "21"
      ]
     },
     "execution_count": 21,
     "metadata": {},
     "output_type": "execute_result"
    }
   ],
   "source": [
    "gc.show_age()\n"
   ]
  },
  {
   "cell_type": "code",
   "execution_count": 22,
   "id": "48b8323e",
   "metadata": {},
   "outputs": [
    {
     "data": {
      "text/plain": [
       "'male'"
      ]
     },
     "execution_count": 22,
     "metadata": {},
     "output_type": "execute_result"
    }
   ],
   "source": [
    "gc.show_gender()"
   ]
  }
 ],
 "metadata": {
  "kernelspec": {
   "display_name": "Python 3",
   "language": "python",
   "name": "python3"
  },
  "language_info": {
   "codemirror_mode": {
    "name": "ipython",
    "version": 3
   },
   "file_extension": ".py",
   "mimetype": "text/x-python",
   "name": "python",
   "nbconvert_exporter": "python",
   "pygments_lexer": "ipython3",
   "version": "3.8.8"
  }
 },
 "nbformat": 4,
 "nbformat_minor": 5
}
