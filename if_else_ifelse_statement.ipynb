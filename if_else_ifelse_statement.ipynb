{
 "cells": [
  {
   "cell_type": "code",
   "execution_count": 1,
   "id": "908e2279",
   "metadata": {
    "scrolled": true
   },
   "outputs": [
    {
     "name": "stdout",
     "output_type": "stream",
     "text": [
      "Hii,Congratulation' you are eligible for 15% discount\n",
      "Boom , After discount you have to pay 17.0\n"
     ]
    }
   ],
   "source": [
    "price=20\n",
    "qunt=1\n",
    "amount=price*qunt\n",
    "if amount< 100 and amount >10:\n",
    "    print(\"Hii,Congratulation' you are eligible for 15% discount\")\n",
    "new_amount=amount-amount*0.15 \n",
    "x=new_amount-amount\n",
    "print(\"Boom , After discount you have to pay\",new_amount  )\n"
   ]
  },
  {
   "cell_type": "code",
   "execution_count": 2,
   "id": "a7a968f7",
   "metadata": {
    "scrolled": true
   },
   "outputs": [
    {
     "name": "stdout",
     "output_type": "stream",
     "text": [
      "Enter a string\n",
      "5\n",
      "The string entered by user is 5\n"
     ]
    }
   ],
   "source": [
    "print(\"Enter a string\")\n",
    "a=input()\n",
    "print(\"The string entered by user is\",a)"
   ]
  },
  {
   "cell_type": "code",
   "execution_count": 3,
   "id": "89c9692a",
   "metadata": {
    "scrolled": false
   },
   "outputs": [
    {
     "name": "stdout",
     "output_type": "stream",
     "text": [
      "Enter First Number\n",
      "5\n",
      "Enter Second Number\n",
      "6\n",
      "Grater number is 6\n"
     ]
    }
   ],
   "source": [
    "print(\"Enter First Number\")\n",
    "a=input()\n",
    "print(\"Enter Second Number\")\n",
    "b=input()\n",
    "if a>b:\n",
    "    \n",
    "    print(\"Grater number is\",a)\n",
    "else:\n",
    "    \n",
    "    print(\"Grater number is\",b)\n"
   ]
  },
  {
   "cell_type": "code",
   "execution_count": 11,
   "id": "0e67bad7",
   "metadata": {},
   "outputs": [
    {
     "name": "stdout",
     "output_type": "stream",
     "text": [
      "Enter the price of Item = 56\n",
      "Enter the qty you purchased = 65\n",
      "Hey, Congrates you are eligible for maximum 30% discount new amount you have to pay is  1092.0\n"
     ]
    }
   ],
   "source": [
    "\n",
    "price=input(\"Enter the price of Item = \")\n",
    "\n",
    "qty=input(\"Enter the qty you purchased = \")\n",
    "amount=int(price)*int(qty)\n",
    "if amount<500:\n",
    "    new_amount=amount*0.1\n",
    "    print(\"Hey, Congrates you are eligible for 10% discount new amount you have to pay is \",new_amount)\n",
    "elif 500<amount<1000:\n",
    "    new_amount1=amount*0.15\n",
    "    print(\"Hey, Congrates you are eligible for 15% discount new amount you have to pay is \",new_amount1)\n",
    "elif 1000<amount<2000:\n",
    "    new_amount2=amount*0.20\n",
    "    print(\"Hey, Congrates you are eligible for 20% discount new amount you have to pay is \",new_amount2)\n",
    "else:\n",
    "    new_amount3=amount*0.30\n",
    "    print(\"Hey, Congrates you are eligible for maximum 30% discount new amount you have to pay is \",new_amount3)          "
   ]
  },
  {
   "cell_type": "code",
   "execution_count": null,
   "id": "49cd890e",
   "metadata": {},
   "outputs": [],
   "source": []
  }
 ],
 "metadata": {
  "kernelspec": {
   "display_name": "Python 3",
   "language": "python",
   "name": "python3"
  },
  "language_info": {
   "codemirror_mode": {
    "name": "ipython",
    "version": 3
   },
   "file_extension": ".py",
   "mimetype": "text/x-python",
   "name": "python",
   "nbconvert_exporter": "python",
   "pygments_lexer": "ipython3",
   "version": "3.8.8"
  }
 },
 "nbformat": 4,
 "nbformat_minor": 5
}
