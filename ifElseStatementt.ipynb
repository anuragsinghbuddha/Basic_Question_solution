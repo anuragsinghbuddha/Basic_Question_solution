{
 "cells": [
  {
   "cell_type": "code",
   "execution_count": 1,
   "id": "a0430fa9",
   "metadata": {},
   "outputs": [],
   "source": [
    "a=10\n",
    "b=20"
   ]
  },
  {
   "cell_type": "code",
   "execution_count": 2,
   "id": "6e662972",
   "metadata": {},
   "outputs": [],
   "source": [
    "if a>b:\n",
    "    print(\"a is greater\")"
   ]
  },
  {
   "cell_type": "code",
   "execution_count": 3,
   "id": "c1652072",
   "metadata": {},
   "outputs": [
    {
     "name": "stdout",
     "output_type": "stream",
     "text": [
      "b is grater\n"
     ]
    }
   ],
   "source": [
    "if(a>b):\n",
    "    print(\"a is grater number\")\n",
    "else:\n",
    "    print(\"b is grater\")"
   ]
  },
  {
   "cell_type": "code",
   "execution_count": 4,
   "id": "9c2c90be",
   "metadata": {},
   "outputs": [
    {
     "name": "stdout",
     "output_type": "stream",
     "text": [
      "c is gratest\n"
     ]
    }
   ],
   "source": [
    "a=10\n",
    "b=20\n",
    "c=30\n",
    "if a>b&a>c:\n",
    "    print(\"a is greatest\")\n",
    "elif b>a&b>c:\n",
    "    print('b is gratest')\n",
    "else:\n",
    "    print(\"c is gratest\")"
   ]
  },
  {
   "cell_type": "markdown",
   "id": "b763bde7",
   "metadata": {},
   "source": [
    "# if with tuple"
   ]
  },
  {
   "cell_type": "code",
   "execution_count": 5,
   "id": "7537aaaf",
   "metadata": {},
   "outputs": [],
   "source": [
    "tup1=(10,20,30)\n",
    "if(tup1[1]==20):\n",
    "    tup1=(10,20,50)\n",
    "    "
   ]
  },
  {
   "cell_type": "code",
   "execution_count": 6,
   "id": "38a992da",
   "metadata": {},
   "outputs": [
    {
     "data": {
      "text/plain": [
       "(10, 20, 50)"
      ]
     },
     "execution_count": 6,
     "metadata": {},
     "output_type": "execute_result"
    }
   ],
   "source": [
    "tup1"
   ]
  },
  {
   "cell_type": "code",
   "execution_count": 7,
   "id": "820bb0eb",
   "metadata": {},
   "outputs": [
    {
     "name": "stdout",
     "output_type": "stream",
     "text": [
      "p is not in tup1\n"
     ]
    }
   ],
   "source": [
    "tup2=('a','b','c','d')\n",
    "if 'p' in tup2:\n",
    "    print(\" p is  present in tup2\")\n",
    "else:\n",
    "    print(\"p is not in tup1\")\n"
   ]
  },
  {
   "cell_type": "markdown",
   "id": "75780fab",
   "metadata": {},
   "source": [
    "# if with list"
   ]
  },
  {
   "cell_type": "code",
   "execution_count": 8,
   "id": "f97b5850",
   "metadata": {},
   "outputs": [
    {
     "data": {
      "text/plain": [
       "['Anurag', 'Mukesh', 'Satyam', 'Mithu', 'Shivkumar', 'Akshay']"
      ]
     },
     "execution_count": 8,
     "metadata": {},
     "output_type": "execute_result"
    }
   ],
   "source": [
    "lis1=['Anurag','Mukesh','Satyam','Mithu','Shivkumar','Bala']\n",
    "if lis1[5]=='Bala':\n",
    "    lis1[5]='Akshay'\n",
    "lis1    "
   ]
  },
  {
   "cell_type": "code",
   "execution_count": 9,
   "id": "d95ad12d",
   "metadata": {},
   "outputs": [
    {
     "data": {
      "text/plain": [
       "['Swami Mukesananda',\n",
       " 'Swami Anuragananda',\n",
       " 'Swami Satyananda',\n",
       " 'Swami Mithuananda',\n",
       " 'Swami Shivkumarananda',\n",
       " 'Swami Akshayananda']"
      ]
     },
     "execution_count": 9,
     "metadata": {},
     "output_type": "execute_result"
    }
   ],
   "source": [
    "lis1[0]='Swami Mukesananda'\n",
    "lis1[1]='Swami Anuragananda'\n",
    "lis1[2]='Swami Satyananda'\n",
    "lis1[3]='Swami Mithuananda'\n",
    "lis1[4]='Swami Shivkumarananda'\n",
    "lis1[5]='Swami Akshayananda'\n",
    "lis1"
   ]
  },
  {
   "cell_type": "markdown",
   "id": "8c26fab3",
   "metadata": {},
   "source": [
    "# Dictionary"
   ]
  },
  {
   "cell_type": "code",
   "execution_count": 10,
   "id": "b682f3a6",
   "metadata": {},
   "outputs": [
    {
     "data": {
      "text/plain": [
       "{'m': 200, 'a': 200, 's': 200, 'm1': 200, 's1': 200, 'a1': 200}"
      ]
     },
     "execution_count": 10,
     "metadata": {},
     "output_type": "execute_result"
    }
   ],
   "source": [
    "dic1={'m':100,'a':100,'s':100,'m1':100,'s1':100,'a1':100}\n",
    "if (dic1['m']==dic1['a']== dic1['s']==dic1['m1']== dic1['a1']== dic1['s1']):\n",
    "    dic1['m']=dic1['m']+100\n",
    "    dic1['a']=dic1['a']+100\n",
    "    dic1['s']=dic1['s']+100\n",
    "    dic1['m1']=dic1['m1']+100\n",
    "    dic1['a1']=dic1['a1']+100\n",
    "    dic1['s1']=dic1['s1']+100\n",
    "dic1    \n",
    "    "
   ]
  },
  {
   "cell_type": "markdown",
   "id": "1d58d854",
   "metadata": {},
   "source": [
    "# looping"
   ]
  },
  {
   "cell_type": "code",
   "execution_count": 11,
   "id": "d4e1a718",
   "metadata": {},
   "outputs": [
    {
     "name": "stdout",
     "output_type": "stream",
     "text": [
      "1\n",
      "2\n",
      "3\n",
      "4\n",
      "5\n",
      "6\n",
      "7\n",
      "8\n",
      "9\n",
      "10\n"
     ]
    }
   ],
   "source": [
    "i=1\n",
    "while(i<=10):\n",
    "    print(i)\n",
    "    i=i+1\n",
    "    "
   ]
  },
  {
   "cell_type": "code",
   "execution_count": 13,
   "id": "6a591d8d",
   "metadata": {},
   "outputs": [
    {
     "name": "stdout",
     "output_type": "stream",
     "text": [
      "2 * 1 = 2\n",
      "2 * 2 = 4\n",
      "2 * 3 = 6\n",
      "2 * 4 = 8\n",
      "2 * 5 = 10\n",
      "2 * 6 = 12\n",
      "2 * 7 = 14\n",
      "2 * 8 = 16\n",
      "2 * 9 = 18\n",
      "2 * 10 = 20\n"
     ]
    }
   ],
   "source": [
    "i=1\n",
    "j=2\n",
    "while(i<=10):\n",
    "    print(j,'*',i,\"=\",j*i)\n",
    "    i=i+1\n",
    " "
   ]
  },
  {
   "cell_type": "code",
   "execution_count": 16,
   "id": "1785a4df",
   "metadata": {},
   "outputs": [
    {
     "name": "stdout",
     "output_type": "stream",
     "text": [
      "😊❤😊❤❤😊😊😊😊❤💕💕\n"
     ]
    }
   ],
   "source": [
    "print(\"😊❤😊❤❤😊😊😊😊❤💕💕\")"
   ]
  },
  {
   "cell_type": "code",
   "execution_count": 27,
   "id": "005233ae",
   "metadata": {},
   "outputs": [
    {
     "data": {
      "text/plain": [
       "[101, 102, 103, 104]"
      ]
     },
     "execution_count": 27,
     "metadata": {},
     "output_type": "execute_result"
    }
   ],
   "source": [
    "lis=[1,2,3,4]\n",
    "i=0\n",
    "while i<len(lis):\n",
    "    lis[i]=lis[i]+100\n",
    "    i=i+1\n",
    "lis    \n",
    "    "
   ]
  },
  {
   "cell_type": "code",
   "execution_count": 42,
   "id": "c770ecc0",
   "metadata": {},
   "outputs": [
    {
     "name": "stdout",
     "output_type": "stream",
     "text": [
      "Muku\n",
      "Anu\n",
      "Satya\n",
      "mith\n",
      "sikku\n",
      "Bal\n"
     ]
    }
   ],
   "source": [
    "l1=['Muku','Anu','Satya','mith','sikku','Bal']\n",
    "for i in l1:\n",
    "    print(i)\n"
   ]
  },
  {
   "cell_type": "code",
   "execution_count": 43,
   "id": "338d4be1",
   "metadata": {},
   "outputs": [
    {
     "name": "stdout",
     "output_type": "stream",
     "text": [
      "Muku MMukesh\n",
      "Muku Anurag\n",
      "Muku Satyam\n",
      "Muku mithu\n",
      "Muku sikkumar\n",
      "Muku Bala\n",
      "Anu MMukesh\n",
      "Anu Anurag\n",
      "Anu Satyam\n",
      "Anu mithu\n",
      "Anu sikkumar\n",
      "Anu Bala\n",
      "Satya MMukesh\n",
      "Satya Anurag\n",
      "Satya Satyam\n",
      "Satya mithu\n",
      "Satya sikkumar\n",
      "Satya Bala\n",
      "mith MMukesh\n",
      "mith Anurag\n",
      "mith Satyam\n",
      "mith mithu\n",
      "mith sikkumar\n",
      "mith Bala\n",
      "sikku MMukesh\n",
      "sikku Anurag\n",
      "sikku Satyam\n",
      "sikku mithu\n",
      "sikku sikkumar\n",
      "sikku Bala\n",
      "Bal MMukesh\n",
      "Bal Anurag\n",
      "Bal Satyam\n",
      "Bal mithu\n",
      "Bal sikkumar\n",
      "Bal Bala\n"
     ]
    }
   ],
   "source": [
    "l1=['Muku','Anu','Satya','mith','sikku','Bal']\n",
    "l2=['MMukesh','Anurag','Satyam','mithu','sikkumar','Bala']\n",
    "for i in l1:\n",
    "    for j in l2:\n",
    "        print(i,j)\n",
    "    \n"
   ]
  },
  {
   "cell_type": "code",
   "execution_count": null,
   "id": "8d4e9a40",
   "metadata": {},
   "outputs": [],
   "source": []
  }
 ],
 "metadata": {
  "kernelspec": {
   "display_name": "Python 3",
   "language": "python",
   "name": "python3"
  },
  "language_info": {
   "codemirror_mode": {
    "name": "ipython",
    "version": 3
   },
   "file_extension": ".py",
   "mimetype": "text/x-python",
   "name": "python",
   "nbconvert_exporter": "python",
   "pygments_lexer": "ipython3",
   "version": "3.8.8"
  }
 },
 "nbformat": 4,
 "nbformat_minor": 5
}
