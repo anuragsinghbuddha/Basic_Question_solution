{
 "cells": [
  {
   "cell_type": "markdown",
   "id": "1d2f19ed",
   "metadata": {},
   "source": [
    "function is block of  code use to perform specific task\n",
    "like Desposit is use to deposit money\n",
    "     Withdraw is use to withdraw money\n",
    "     Balence is use to withdraw balence"
   ]
  },
  {
   "cell_type": "code",
   "execution_count": 1,
   "id": "4ba11658",
   "metadata": {},
   "outputs": [
    {
     "name": "stdout",
     "output_type": "stream",
     "text": [
      "hello world\n"
     ]
    }
   ],
   "source": [
    "def Hello():\n",
    "    print(\"hello world\")\n",
    "Hello()    "
   ]
  },
  {
   "cell_type": "code",
   "execution_count": 2,
   "id": "ee554e81",
   "metadata": {},
   "outputs": [
    {
     "data": {
      "text/plain": [
       "30"
      ]
     },
     "execution_count": 2,
     "metadata": {},
     "output_type": "execute_result"
    }
   ],
   "source": [
    "def add_10 (x):\n",
    "    return x+10  \n",
    "add_10(20)"
   ]
  },
  {
   "cell_type": "code",
   "execution_count": 3,
   "id": "f1167302",
   "metadata": {},
   "outputs": [],
   "source": [
    "def odd_even(x):\n",
    "    if(x%2==0):\n",
    "        print(\"Number\" ,x, \"is not odd\")\n",
    "    else:\n",
    "        print(\"Number\",x,\" is odd\")\n",
    "    "
   ]
  },
  {
   "cell_type": "code",
   "execution_count": 4,
   "id": "639404da",
   "metadata": {},
   "outputs": [
    {
     "name": "stdout",
     "output_type": "stream",
     "text": [
      "Number 2 is not odd\n"
     ]
    }
   ],
   "source": [
    "odd_even(2)"
   ]
  },
  {
   "cell_type": "code",
   "execution_count": 5,
   "id": "52e9f44c",
   "metadata": {},
   "outputs": [
    {
     "name": "stdout",
     "output_type": "stream",
     "text": [
      "Number 5  is odd\n"
     ]
    }
   ],
   "source": [
    "odd_even(5)"
   ]
  },
  {
   "cell_type": "markdown",
   "id": "2e376452",
   "metadata": {},
   "source": [
    "# lambda function"
   ]
  },
  {
   "cell_type": "code",
   "execution_count": 6,
   "id": "42ff6e71",
   "metadata": {},
   "outputs": [],
   "source": [
    "g=lambda x:x*x*x"
   ]
  },
  {
   "cell_type": "code",
   "execution_count": 8,
   "id": "fa8b3854",
   "metadata": {},
   "outputs": [
    {
     "data": {
      "text/plain": [
       "1000"
      ]
     },
     "execution_count": 8,
     "metadata": {},
     "output_type": "execute_result"
    }
   ],
   "source": [
    "g(10)"
   ]
  },
  {
   "cell_type": "code",
   "execution_count": 13,
   "id": "7efba1f3",
   "metadata": {},
   "outputs": [
    {
     "data": {
      "text/plain": [
       "[2, 4, 6, 8]"
      ]
     },
     "execution_count": 13,
     "metadata": {},
     "output_type": "execute_result"
    }
   ],
   "source": [
    "l1=[1,2,3,4,5,6,7,8,9]\n",
    "list(filter(lambda x:(x%2==0),l1))"
   ]
  },
  {
   "cell_type": "markdown",
   "id": "ad528034",
   "metadata": {},
   "source": [
    "##### lambda with filter function"
   ]
  },
  {
   "cell_type": "code",
   "execution_count": 14,
   "id": "924bb5f5",
   "metadata": {},
   "outputs": [
    {
     "data": {
      "text/plain": [
       "[25, 23, 5, 41, 35, 63, 65]"
      ]
     },
     "execution_count": 14,
     "metadata": {},
     "output_type": "execute_result"
    }
   ],
   "source": [
    "li=[25,23,6,5,41,35,36,63,62,4,6,8,22,65,]\n",
    "list(filter(lambda x:(x%2!=0),li))"
   ]
  },
  {
   "cell_type": "markdown",
   "id": "4547056f",
   "metadata": {},
   "source": [
    "#### lambda with map function"
   ]
  },
  {
   "cell_type": "code",
   "execution_count": 16,
   "id": "a3773122",
   "metadata": {},
   "outputs": [
    {
     "data": {
      "text/plain": [
       "[2, 4, 6, 8, 10, 12, 14, 16, 18]"
      ]
     },
     "execution_count": 16,
     "metadata": {},
     "output_type": "execute_result"
    }
   ],
   "source": [
    "list(map(lambda x:(x*2),l1))"
   ]
  },
  {
   "cell_type": "code",
   "execution_count": null,
   "id": "fa9b08bd",
   "metadata": {},
   "outputs": [],
   "source": []
  }
 ],
 "metadata": {
  "kernelspec": {
   "display_name": "Python 3",
   "language": "python",
   "name": "python3"
  },
  "language_info": {
   "codemirror_mode": {
    "name": "ipython",
    "version": 3
   },
   "file_extension": ".py",
   "mimetype": "text/x-python",
   "name": "python",
   "nbconvert_exporter": "python",
   "pygments_lexer": "ipython3",
   "version": "3.8.8"
  }
 },
 "nbformat": 4,
 "nbformat_minor": 5
}
